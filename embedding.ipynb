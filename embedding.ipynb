{
 "cells": [
  {
   "cell_type": "code",
   "execution_count": 27,
   "metadata": {},
   "outputs": [],
   "source": [
    "from tensorflow.keras.preprocessing.text import one_hot"
   ]
  },
  {
   "cell_type": "code",
   "execution_count": 28,
   "metadata": {},
   "outputs": [],
   "source": [
    "### sentences\n",
    "sent=[  'the glass of milk',\n",
    "     'the glass of juice',\n",
    "     'the cup of tea',\n",
    "    'I am a good boy',\n",
    "     'I am a good developer',\n",
    "     'understand the meaning of words',\n",
    "     'your videos are good',]"
   ]
  },
  {
   "cell_type": "code",
   "execution_count": 29,
   "metadata": {},
   "outputs": [
    {
     "data": {
      "text/plain": [
       "['the glass of milk',\n",
       " 'the glass of juice',\n",
       " 'the cup of tea',\n",
       " 'I am a good boy',\n",
       " 'I am a good developer',\n",
       " 'understand the meaning of words',\n",
       " 'your videos are good']"
      ]
     },
     "execution_count": 29,
     "metadata": {},
     "output_type": "execute_result"
    }
   ],
   "source": [
    "sent"
   ]
  },
  {
   "cell_type": "code",
   "execution_count": 30,
   "metadata": {},
   "outputs": [],
   "source": [
    "## Define the vocabulary size\n",
    "voc_size=10000"
   ]
  },
  {
   "cell_type": "code",
   "execution_count": 31,
   "metadata": {},
   "outputs": [
    {
     "data": {
      "text/plain": [
       "['the glass of milk',\n",
       " 'the glass of juice',\n",
       " 'the cup of tea',\n",
       " 'I am a good boy',\n",
       " 'I am a good developer',\n",
       " 'understand the meaning of words',\n",
       " 'your videos are good']"
      ]
     },
     "execution_count": 31,
     "metadata": {},
     "output_type": "execute_result"
    }
   ],
   "source": [
    "sent"
   ]
  },
  {
   "cell_type": "code",
   "execution_count": 32,
   "metadata": {},
   "outputs": [
    {
     "data": {
      "text/plain": [
       "[[1355, 9781, 4099, 2],\n",
       " [1355, 9781, 4099, 8821],\n",
       " [1355, 8876, 4099, 1856],\n",
       " [6596, 7275, 5189, 6531, 2862],\n",
       " [6596, 7275, 5189, 6531, 6548],\n",
       " [9012, 1355, 1631, 4099, 6072],\n",
       " [615, 1856, 4150, 6531]]"
      ]
     },
     "execution_count": 32,
     "metadata": {},
     "output_type": "execute_result"
    }
   ],
   "source": [
    "### One Hot Representation\n",
    "one_hot_repr=[one_hot(words,voc_size)for words in sent]\n",
    "one_hot_repr"
   ]
  },
  {
   "cell_type": "code",
   "execution_count": 33,
   "metadata": {},
   "outputs": [],
   "source": [
    "## word Embedding Representation\n",
    "\n",
    "from tensorflow.keras.layers import Embedding\n",
    "#from tensorflow.keras.processing.sequence import pad_sequences\n",
    "from tensorflow.keras.utils import pad_sequences\n",
    "from tensorflow.keras.models import Sequential"
   ]
  },
  {
   "cell_type": "code",
   "execution_count": 11,
   "metadata": {},
   "outputs": [],
   "source": [
    "import numpy as np"
   ]
  },
  {
   "cell_type": "code",
   "execution_count": 34,
   "metadata": {},
   "outputs": [
    {
     "name": "stdout",
     "output_type": "stream",
     "text": [
      "[[   0    0    0    0 1355 9781 4099    2]\n",
      " [   0    0    0    0 1355 9781 4099 8821]\n",
      " [   0    0    0    0 1355 8876 4099 1856]\n",
      " [   0    0    0 6596 7275 5189 6531 2862]\n",
      " [   0    0    0 6596 7275 5189 6531 6548]\n",
      " [   0    0    0 9012 1355 1631 4099 6072]\n",
      " [   0    0    0    0  615 1856 4150 6531]]\n"
     ]
    }
   ],
   "source": [
    "sent_length=8\n",
    "#if lengths are different  here we use padding\n",
    "\n",
    "embedded_docs=pad_sequences(one_hot_repr,padding='pre',maxlen=sent_length)\n",
    "print(embedded_docs)"
   ]
  },
  {
   "cell_type": "code",
   "execution_count": 11,
   "metadata": {},
   "outputs": [],
   "source": [
    "## feature representation\n",
    "dim=10"
   ]
  },
  {
   "cell_type": "code",
   "execution_count": 12,
   "metadata": {},
   "outputs": [
    {
     "name": "stderr",
     "output_type": "stream",
     "text": [
      "c:\\Users\\shrut\\Downloads\\Project_resources\\simple_rnn_imdb\\myenv\\Lib\\site-packages\\keras\\src\\layers\\core\\embedding.py:90: UserWarning: Argument `input_length` is deprecated. Just remove it.\n",
      "  warnings.warn(\n"
     ]
    }
   ],
   "source": [
    "model=Sequential()\n",
    "model.add(Embedding(voc_size,dim,input_length=sent_length))\n",
    "model.compile('adam','mse')"
   ]
  },
  {
   "cell_type": "code",
   "execution_count": 35,
   "metadata": {},
   "outputs": [
    {
     "data": {
      "text/html": [
       "<pre style=\"white-space:pre;overflow-x:auto;line-height:normal;font-family:Menlo,'DejaVu Sans Mono',consolas,'Courier New',monospace\"><span style=\"font-weight: bold\">Model: \"sequential\"</span>\n",
       "</pre>\n"
      ],
      "text/plain": [
       "\u001b[1mModel: \"sequential\"\u001b[0m\n"
      ]
     },
     "metadata": {},
     "output_type": "display_data"
    },
    {
     "data": {
      "text/html": [
       "<pre style=\"white-space:pre;overflow-x:auto;line-height:normal;font-family:Menlo,'DejaVu Sans Mono',consolas,'Courier New',monospace\">┏━━━━━━━━━━━━━━━━━━━━━━━━━━━━━━━━━┳━━━━━━━━━━━━━━━━━━━━━━━━┳━━━━━━━━━━━━━━━┓\n",
       "┃<span style=\"font-weight: bold\"> Layer (type)                    </span>┃<span style=\"font-weight: bold\"> Output Shape           </span>┃<span style=\"font-weight: bold\">       Param # </span>┃\n",
       "┡━━━━━━━━━━━━━━━━━━━━━━━━━━━━━━━━━╇━━━━━━━━━━━━━━━━━━━━━━━━╇━━━━━━━━━━━━━━━┩\n",
       "│ embedding (<span style=\"color: #0087ff; text-decoration-color: #0087ff\">Embedding</span>)           │ (<span style=\"color: #00af00; text-decoration-color: #00af00\">7</span>, <span style=\"color: #00af00; text-decoration-color: #00af00\">8</span>, <span style=\"color: #00af00; text-decoration-color: #00af00\">10</span>)             │       <span style=\"color: #00af00; text-decoration-color: #00af00\">100,000</span> │\n",
       "└─────────────────────────────────┴────────────────────────┴───────────────┘\n",
       "</pre>\n"
      ],
      "text/plain": [
       "┏━━━━━━━━━━━━━━━━━━━━━━━━━━━━━━━━━┳━━━━━━━━━━━━━━━━━━━━━━━━┳━━━━━━━━━━━━━━━┓\n",
       "┃\u001b[1m \u001b[0m\u001b[1mLayer (type)                   \u001b[0m\u001b[1m \u001b[0m┃\u001b[1m \u001b[0m\u001b[1mOutput Shape          \u001b[0m\u001b[1m \u001b[0m┃\u001b[1m \u001b[0m\u001b[1m      Param #\u001b[0m\u001b[1m \u001b[0m┃\n",
       "┡━━━━━━━━━━━━━━━━━━━━━━━━━━━━━━━━━╇━━━━━━━━━━━━━━━━━━━━━━━━╇━━━━━━━━━━━━━━━┩\n",
       "│ embedding (\u001b[38;5;33mEmbedding\u001b[0m)           │ (\u001b[38;5;34m7\u001b[0m, \u001b[38;5;34m8\u001b[0m, \u001b[38;5;34m10\u001b[0m)             │       \u001b[38;5;34m100,000\u001b[0m │\n",
       "└─────────────────────────────────┴────────────────────────┴───────────────┘\n"
      ]
     },
     "metadata": {},
     "output_type": "display_data"
    },
    {
     "data": {
      "text/html": [
       "<pre style=\"white-space:pre;overflow-x:auto;line-height:normal;font-family:Menlo,'DejaVu Sans Mono',consolas,'Courier New',monospace\"><span style=\"font-weight: bold\"> Total params: </span><span style=\"color: #00af00; text-decoration-color: #00af00\">100,000</span> (390.62 KB)\n",
       "</pre>\n"
      ],
      "text/plain": [
       "\u001b[1m Total params: \u001b[0m\u001b[38;5;34m100,000\u001b[0m (390.62 KB)\n"
      ]
     },
     "metadata": {},
     "output_type": "display_data"
    },
    {
     "data": {
      "text/html": [
       "<pre style=\"white-space:pre;overflow-x:auto;line-height:normal;font-family:Menlo,'DejaVu Sans Mono',consolas,'Courier New',monospace\"><span style=\"font-weight: bold\"> Trainable params: </span><span style=\"color: #00af00; text-decoration-color: #00af00\">100,000</span> (390.62 KB)\n",
       "</pre>\n"
      ],
      "text/plain": [
       "\u001b[1m Trainable params: \u001b[0m\u001b[38;5;34m100,000\u001b[0m (390.62 KB)\n"
      ]
     },
     "metadata": {},
     "output_type": "display_data"
    },
    {
     "data": {
      "text/html": [
       "<pre style=\"white-space:pre;overflow-x:auto;line-height:normal;font-family:Menlo,'DejaVu Sans Mono',consolas,'Courier New',monospace\"><span style=\"font-weight: bold\"> Non-trainable params: </span><span style=\"color: #00af00; text-decoration-color: #00af00\">0</span> (0.00 B)\n",
       "</pre>\n"
      ],
      "text/plain": [
       "\u001b[1m Non-trainable params: \u001b[0m\u001b[38;5;34m0\u001b[0m (0.00 B)\n"
      ]
     },
     "metadata": {},
     "output_type": "display_data"
    }
   ],
   "source": [
    "model.summary()"
   ]
  },
  {
   "cell_type": "code",
   "execution_count": 15,
   "metadata": {},
   "outputs": [
    {
     "name": "stdout",
     "output_type": "stream",
     "text": [
      "\u001b[1m1/1\u001b[0m \u001b[32m━━━━━━━━━━━━━━━━━━━━\u001b[0m\u001b[37m\u001b[0m \u001b[1m0s\u001b[0m 474ms/step\n"
     ]
    },
    {
     "data": {
      "text/plain": [
       "array([[[-0.03494536,  0.02026676,  0.00312025,  0.03089729,\n",
       "          0.03362432,  0.00387982,  0.01414287, -0.03095986,\n",
       "         -0.04806   ,  0.03711675],\n",
       "        [-0.03494536,  0.02026676,  0.00312025,  0.03089729,\n",
       "          0.03362432,  0.00387982,  0.01414287, -0.03095986,\n",
       "         -0.04806   ,  0.03711675],\n",
       "        [-0.03494536,  0.02026676,  0.00312025,  0.03089729,\n",
       "          0.03362432,  0.00387982,  0.01414287, -0.03095986,\n",
       "         -0.04806   ,  0.03711675],\n",
       "        [-0.03494536,  0.02026676,  0.00312025,  0.03089729,\n",
       "          0.03362432,  0.00387982,  0.01414287, -0.03095986,\n",
       "         -0.04806   ,  0.03711675],\n",
       "        [ 0.01654   ,  0.02330187,  0.02880779,  0.03267861,\n",
       "          0.03694067, -0.00950267,  0.03401678, -0.03980762,\n",
       "          0.042712  , -0.01690688],\n",
       "        [ 0.0063711 ,  0.03584782,  0.0385411 , -0.01287486,\n",
       "          0.03827772,  0.01443502,  0.02638007,  0.03323822,\n",
       "         -0.0173664 ,  0.01064317],\n",
       "        [ 0.01030433, -0.04423332, -0.03621387, -0.01068163,\n",
       "         -0.04283339,  0.03031293,  0.00801537, -0.01008078,\n",
       "         -0.02823006, -0.02316328],\n",
       "        [-0.0441081 ,  0.04716219,  0.04379718,  0.02654937,\n",
       "         -0.03027925, -0.03377117, -0.0062086 , -0.0026679 ,\n",
       "          0.02027054,  0.0395877 ]],\n",
       "\n",
       "       [[-0.03494536,  0.02026676,  0.00312025,  0.03089729,\n",
       "          0.03362432,  0.00387982,  0.01414287, -0.03095986,\n",
       "         -0.04806   ,  0.03711675],\n",
       "        [-0.03494536,  0.02026676,  0.00312025,  0.03089729,\n",
       "          0.03362432,  0.00387982,  0.01414287, -0.03095986,\n",
       "         -0.04806   ,  0.03711675],\n",
       "        [-0.03494536,  0.02026676,  0.00312025,  0.03089729,\n",
       "          0.03362432,  0.00387982,  0.01414287, -0.03095986,\n",
       "         -0.04806   ,  0.03711675],\n",
       "        [-0.03494536,  0.02026676,  0.00312025,  0.03089729,\n",
       "          0.03362432,  0.00387982,  0.01414287, -0.03095986,\n",
       "         -0.04806   ,  0.03711675],\n",
       "        [ 0.01654   ,  0.02330187,  0.02880779,  0.03267861,\n",
       "          0.03694067, -0.00950267,  0.03401678, -0.03980762,\n",
       "          0.042712  , -0.01690688],\n",
       "        [ 0.0063711 ,  0.03584782,  0.0385411 , -0.01287486,\n",
       "          0.03827772,  0.01443502,  0.02638007,  0.03323822,\n",
       "         -0.0173664 ,  0.01064317],\n",
       "        [ 0.01030433, -0.04423332, -0.03621387, -0.01068163,\n",
       "         -0.04283339,  0.03031293,  0.00801537, -0.01008078,\n",
       "         -0.02823006, -0.02316328],\n",
       "        [-0.03305634, -0.00323255, -0.04087131,  0.04597348,\n",
       "         -0.00463953, -0.00947666,  0.01118232,  0.04025886,\n",
       "         -0.04676845, -0.02189978]],\n",
       "\n",
       "       [[-0.03494536,  0.02026676,  0.00312025,  0.03089729,\n",
       "          0.03362432,  0.00387982,  0.01414287, -0.03095986,\n",
       "         -0.04806   ,  0.03711675],\n",
       "        [-0.03494536,  0.02026676,  0.00312025,  0.03089729,\n",
       "          0.03362432,  0.00387982,  0.01414287, -0.03095986,\n",
       "         -0.04806   ,  0.03711675],\n",
       "        [-0.03494536,  0.02026676,  0.00312025,  0.03089729,\n",
       "          0.03362432,  0.00387982,  0.01414287, -0.03095986,\n",
       "         -0.04806   ,  0.03711675],\n",
       "        [-0.03494536,  0.02026676,  0.00312025,  0.03089729,\n",
       "          0.03362432,  0.00387982,  0.01414287, -0.03095986,\n",
       "         -0.04806   ,  0.03711675],\n",
       "        [ 0.01654   ,  0.02330187,  0.02880779,  0.03267861,\n",
       "          0.03694067, -0.00950267,  0.03401678, -0.03980762,\n",
       "          0.042712  , -0.01690688],\n",
       "        [ 0.0254715 , -0.01156586, -0.02672471, -0.04316382,\n",
       "          0.02476658, -0.03613706, -0.02156117,  0.00579839,\n",
       "         -0.01689424, -0.02095232],\n",
       "        [ 0.01030433, -0.04423332, -0.03621387, -0.01068163,\n",
       "         -0.04283339,  0.03031293,  0.00801537, -0.01008078,\n",
       "         -0.02823006, -0.02316328],\n",
       "        [-0.04611127, -0.02236406, -0.02530324, -0.03967125,\n",
       "         -0.02838537,  0.0125801 , -0.0346663 , -0.03404742,\n",
       "          0.02018279, -0.00228357]],\n",
       "\n",
       "       [[-0.03494536,  0.02026676,  0.00312025,  0.03089729,\n",
       "          0.03362432,  0.00387982,  0.01414287, -0.03095986,\n",
       "         -0.04806   ,  0.03711675],\n",
       "        [-0.03494536,  0.02026676,  0.00312025,  0.03089729,\n",
       "          0.03362432,  0.00387982,  0.01414287, -0.03095986,\n",
       "         -0.04806   ,  0.03711675],\n",
       "        [-0.03494536,  0.02026676,  0.00312025,  0.03089729,\n",
       "          0.03362432,  0.00387982,  0.01414287, -0.03095986,\n",
       "         -0.04806   ,  0.03711675],\n",
       "        [ 0.00934317,  0.01705314,  0.01825274,  0.01372841,\n",
       "         -0.02350061,  0.01308736, -0.04421157,  0.03103178,\n",
       "          0.02876755, -0.00784735],\n",
       "        [ 0.00414585, -0.02838111, -0.03343586, -0.04501032,\n",
       "         -0.04079352,  0.02679988,  0.04100353, -0.03258317,\n",
       "         -0.03139575,  0.04659511],\n",
       "        [ 0.04911161,  0.02065198,  0.04031701,  0.03103821,\n",
       "          0.02368737, -0.02588618,  0.02171862, -0.02466599,\n",
       "          0.02971358,  0.04167711],\n",
       "        [-0.01034111, -0.02185837, -0.04985286, -0.03220947,\n",
       "         -0.03751533,  0.03521262,  0.03239871,  0.04998667,\n",
       "          0.0190248 ,  0.03038594],\n",
       "        [ 0.04788642,  0.03503957, -0.00102073,  0.03151444,\n",
       "         -0.04998714, -0.00109207,  0.00948241,  0.01424155,\n",
       "         -0.00864656,  0.00411184]],\n",
       "\n",
       "       [[-0.03494536,  0.02026676,  0.00312025,  0.03089729,\n",
       "          0.03362432,  0.00387982,  0.01414287, -0.03095986,\n",
       "         -0.04806   ,  0.03711675],\n",
       "        [-0.03494536,  0.02026676,  0.00312025,  0.03089729,\n",
       "          0.03362432,  0.00387982,  0.01414287, -0.03095986,\n",
       "         -0.04806   ,  0.03711675],\n",
       "        [-0.03494536,  0.02026676,  0.00312025,  0.03089729,\n",
       "          0.03362432,  0.00387982,  0.01414287, -0.03095986,\n",
       "         -0.04806   ,  0.03711675],\n",
       "        [ 0.00934317,  0.01705314,  0.01825274,  0.01372841,\n",
       "         -0.02350061,  0.01308736, -0.04421157,  0.03103178,\n",
       "          0.02876755, -0.00784735],\n",
       "        [ 0.00414585, -0.02838111, -0.03343586, -0.04501032,\n",
       "         -0.04079352,  0.02679988,  0.04100353, -0.03258317,\n",
       "         -0.03139575,  0.04659511],\n",
       "        [ 0.04911161,  0.02065198,  0.04031701,  0.03103821,\n",
       "          0.02368737, -0.02588618,  0.02171862, -0.02466599,\n",
       "          0.02971358,  0.04167711],\n",
       "        [-0.01034111, -0.02185837, -0.04985286, -0.03220947,\n",
       "         -0.03751533,  0.03521262,  0.03239871,  0.04998667,\n",
       "          0.0190248 ,  0.03038594],\n",
       "        [ 0.04141145,  0.04757116, -0.02626354, -0.02255278,\n",
       "          0.00573879, -0.00528967,  0.04387731, -0.02225961,\n",
       "          0.04431405, -0.01497992]],\n",
       "\n",
       "       [[-0.03494536,  0.02026676,  0.00312025,  0.03089729,\n",
       "          0.03362432,  0.00387982,  0.01414287, -0.03095986,\n",
       "         -0.04806   ,  0.03711675],\n",
       "        [-0.03494536,  0.02026676,  0.00312025,  0.03089729,\n",
       "          0.03362432,  0.00387982,  0.01414287, -0.03095986,\n",
       "         -0.04806   ,  0.03711675],\n",
       "        [-0.03494536,  0.02026676,  0.00312025,  0.03089729,\n",
       "          0.03362432,  0.00387982,  0.01414287, -0.03095986,\n",
       "         -0.04806   ,  0.03711675],\n",
       "        [-0.03918178, -0.03584298, -0.04464675, -0.00669866,\n",
       "         -0.04017626,  0.02650741, -0.02065146,  0.02662152,\n",
       "         -0.0369207 ,  0.01406776],\n",
       "        [ 0.01654   ,  0.02330187,  0.02880779,  0.03267861,\n",
       "          0.03694067, -0.00950267,  0.03401678, -0.03980762,\n",
       "          0.042712  , -0.01690688],\n",
       "        [-0.02278562, -0.00722051,  0.0422696 , -0.03601744,\n",
       "          0.02676359, -0.01390811,  0.03648803, -0.00278242,\n",
       "          0.00103502,  0.00969348],\n",
       "        [ 0.01030433, -0.04423332, -0.03621387, -0.01068163,\n",
       "         -0.04283339,  0.03031293,  0.00801537, -0.01008078,\n",
       "         -0.02823006, -0.02316328],\n",
       "        [ 0.01909112, -0.02666144,  0.03800709, -0.0467139 ,\n",
       "          0.03563103,  0.0288809 , -0.03778731, -0.00407188,\n",
       "         -0.03929515,  0.0237953 ]],\n",
       "\n",
       "       [[-0.03494536,  0.02026676,  0.00312025,  0.03089729,\n",
       "          0.03362432,  0.00387982,  0.01414287, -0.03095986,\n",
       "         -0.04806   ,  0.03711675],\n",
       "        [-0.03494536,  0.02026676,  0.00312025,  0.03089729,\n",
       "          0.03362432,  0.00387982,  0.01414287, -0.03095986,\n",
       "         -0.04806   ,  0.03711675],\n",
       "        [-0.03494536,  0.02026676,  0.00312025,  0.03089729,\n",
       "          0.03362432,  0.00387982,  0.01414287, -0.03095986,\n",
       "         -0.04806   ,  0.03711675],\n",
       "        [-0.03494536,  0.02026676,  0.00312025,  0.03089729,\n",
       "          0.03362432,  0.00387982,  0.01414287, -0.03095986,\n",
       "         -0.04806   ,  0.03711675],\n",
       "        [-0.04576055, -0.00907839,  0.04238391, -0.01274229,\n",
       "         -0.03704696, -0.03254755, -0.03973093, -0.02408322,\n",
       "         -0.01355056, -0.01686163],\n",
       "        [-0.04611127, -0.02236406, -0.02530324, -0.03967125,\n",
       "         -0.02838537,  0.0125801 , -0.0346663 , -0.03404742,\n",
       "          0.02018279, -0.00228357],\n",
       "        [ 0.03101659, -0.04079561,  0.03406436,  0.01305469,\n",
       "         -0.03828714,  0.02046037,  0.04223723, -0.02005445,\n",
       "          0.04991962, -0.01088161],\n",
       "        [-0.01034111, -0.02185837, -0.04985286, -0.03220947,\n",
       "         -0.03751533,  0.03521262,  0.03239871,  0.04998667,\n",
       "          0.0190248 ,  0.03038594]]], dtype=float32)"
      ]
     },
     "execution_count": 15,
     "metadata": {},
     "output_type": "execute_result"
    }
   ],
   "source": [
    "model.predict(embedded_docs)"
   ]
  },
  {
   "cell_type": "code",
   "execution_count": 25,
   "metadata": {},
   "outputs": [
    {
     "data": {
      "text/plain": [
       "array([   0,    0,    0,    0, 1355, 9781, 4099,    2])"
      ]
     },
     "execution_count": 25,
     "metadata": {},
     "output_type": "execute_result"
    }
   ],
   "source": [
    "embedded_docs[0]"
   ]
  },
  {
   "cell_type": "code",
   "execution_count": 26,
   "metadata": {},
   "outputs": [
    {
     "ename": "ValueError",
     "evalue": "Exception encountered when calling Sequential.call().\n\n\u001b[1mCannot take the length of shape with unknown rank.\u001b[0m\n\nArguments received by Sequential.call():\n  • inputs=tf.Tensor(shape=<unknown>, dtype=int32)\n  • training=False\n  • mask=None",
     "output_type": "error",
     "traceback": [
      "\u001b[1;31m---------------------------------------------------------------------------\u001b[0m",
      "\u001b[1;31mValueError\u001b[0m                                Traceback (most recent call last)",
      "Cell \u001b[1;32mIn[26], line 1\u001b[0m\n\u001b[1;32m----> 1\u001b[0m \u001b[43mmodel\u001b[49m\u001b[38;5;241;43m.\u001b[39;49m\u001b[43mpredict\u001b[49m\u001b[43m(\u001b[49m\u001b[43membedded_docs\u001b[49m\u001b[43m[\u001b[49m\u001b[38;5;241;43m0\u001b[39;49m\u001b[43m]\u001b[49m\u001b[43m)\u001b[49m\n",
      "File \u001b[1;32mc:\\Users\\shrut\\Downloads\\Project_resources\\simple_rnn_imdb\\myenv\\Lib\\site-packages\\keras\\src\\utils\\traceback_utils.py:122\u001b[0m, in \u001b[0;36mfilter_traceback.<locals>.error_handler\u001b[1;34m(*args, **kwargs)\u001b[0m\n\u001b[0;32m    119\u001b[0m     filtered_tb \u001b[38;5;241m=\u001b[39m _process_traceback_frames(e\u001b[38;5;241m.\u001b[39m__traceback__)\n\u001b[0;32m    120\u001b[0m     \u001b[38;5;66;03m# To get the full stack trace, call:\u001b[39;00m\n\u001b[0;32m    121\u001b[0m     \u001b[38;5;66;03m# `keras.config.disable_traceback_filtering()`\u001b[39;00m\n\u001b[1;32m--> 122\u001b[0m     \u001b[38;5;28;01mraise\u001b[39;00m e\u001b[38;5;241m.\u001b[39mwith_traceback(filtered_tb) \u001b[38;5;28;01mfrom\u001b[39;00m \u001b[38;5;28;01mNone\u001b[39;00m\n\u001b[0;32m    123\u001b[0m \u001b[38;5;28;01mfinally\u001b[39;00m:\n\u001b[0;32m    124\u001b[0m     \u001b[38;5;28;01mdel\u001b[39;00m filtered_tb\n",
      "File \u001b[1;32mc:\\Users\\shrut\\Downloads\\Project_resources\\simple_rnn_imdb\\myenv\\Lib\\site-packages\\keras\\src\\utils\\traceback_utils.py:122\u001b[0m, in \u001b[0;36mfilter_traceback.<locals>.error_handler\u001b[1;34m(*args, **kwargs)\u001b[0m\n\u001b[0;32m    119\u001b[0m     filtered_tb \u001b[38;5;241m=\u001b[39m _process_traceback_frames(e\u001b[38;5;241m.\u001b[39m__traceback__)\n\u001b[0;32m    120\u001b[0m     \u001b[38;5;66;03m# To get the full stack trace, call:\u001b[39;00m\n\u001b[0;32m    121\u001b[0m     \u001b[38;5;66;03m# `keras.config.disable_traceback_filtering()`\u001b[39;00m\n\u001b[1;32m--> 122\u001b[0m     \u001b[38;5;28;01mraise\u001b[39;00m e\u001b[38;5;241m.\u001b[39mwith_traceback(filtered_tb) \u001b[38;5;28;01mfrom\u001b[39;00m \u001b[38;5;28;01mNone\u001b[39;00m\n\u001b[0;32m    123\u001b[0m \u001b[38;5;28;01mfinally\u001b[39;00m:\n\u001b[0;32m    124\u001b[0m     \u001b[38;5;28;01mdel\u001b[39;00m filtered_tb\n",
      "\u001b[1;31mValueError\u001b[0m: Exception encountered when calling Sequential.call().\n\n\u001b[1mCannot take the length of shape with unknown rank.\u001b[0m\n\nArguments received by Sequential.call():\n  • inputs=tf.Tensor(shape=<unknown>, dtype=int32)\n  • training=False\n  • mask=None"
     ]
    }
   ],
   "source": [
    "model.predict(embedded_docs[0])"
   ]
  }
 ],
 "metadata": {
  "kernelspec": {
   "display_name": "Python 3",
   "language": "python",
   "name": "python3"
  },
  "language_info": {
   "codemirror_mode": {
    "name": "ipython",
    "version": 3
   },
   "file_extension": ".py",
   "mimetype": "text/x-python",
   "name": "python",
   "nbconvert_exporter": "python",
   "pygments_lexer": "ipython3",
   "version": "3.12.4"
  }
 },
 "nbformat": 4,
 "nbformat_minor": 2
}
