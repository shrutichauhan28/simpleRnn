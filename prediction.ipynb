{
 "cells": [
  {
   "cell_type": "code",
   "execution_count": 1,
   "metadata": {},
   "outputs": [],
   "source": [
    "# Step 1: Import Libraries and Load the Model\n",
    "import numpy as np\n",
    "import tensorflow as tf\n",
    "from tensorflow.keras.datasets import imdb\n",
    "from tensorflow.keras.preprocessing import sequence\n",
    "from tensorflow.keras.models import load_model"
   ]
  },
  {
   "cell_type": "code",
   "execution_count": 2,
   "metadata": {},
   "outputs": [],
   "source": [
    "\n",
    "# Load the IMDB dataset word index\n",
    "word_index = imdb.get_word_index()\n",
    "reverse_word_index = {value: key for key, value in word_index.items()}"
   ]
  },
  {
   "cell_type": "code",
   "execution_count": 3,
   "metadata": {},
   "outputs": [
    {
     "name": "stderr",
     "output_type": "stream",
     "text": [
      "WARNING:absl:Compiled the loaded model, but the compiled metrics have yet to be built. `model.compile_metrics` will be empty until you train or evaluate the model.\n"
     ]
    },
    {
     "data": {
      "text/html": [
       "<pre style=\"white-space:pre;overflow-x:auto;line-height:normal;font-family:Menlo,'DejaVu Sans Mono',consolas,'Courier New',monospace\"><span style=\"font-weight: bold\">Model: \"sequential\"</span>\n",
       "</pre>\n"
      ],
      "text/plain": [
       "\u001b[1mModel: \"sequential\"\u001b[0m\n"
      ]
     },
     "metadata": {},
     "output_type": "display_data"
    },
    {
     "data": {
      "text/html": [
       "<pre style=\"white-space:pre;overflow-x:auto;line-height:normal;font-family:Menlo,'DejaVu Sans Mono',consolas,'Courier New',monospace\">┏━━━━━━━━━━━━━━━━━━━━━━━━━━━━━━━━━┳━━━━━━━━━━━━━━━━━━━━━━━━┳━━━━━━━━━━━━━━━┓\n",
       "┃<span style=\"font-weight: bold\"> Layer (type)                    </span>┃<span style=\"font-weight: bold\"> Output Shape           </span>┃<span style=\"font-weight: bold\">       Param # </span>┃\n",
       "┡━━━━━━━━━━━━━━━━━━━━━━━━━━━━━━━━━╇━━━━━━━━━━━━━━━━━━━━━━━━╇━━━━━━━━━━━━━━━┩\n",
       "│ embedding (<span style=\"color: #0087ff; text-decoration-color: #0087ff\">Embedding</span>)           │ (<span style=\"color: #00af00; text-decoration-color: #00af00\">32</span>, <span style=\"color: #00af00; text-decoration-color: #00af00\">500</span>, <span style=\"color: #00af00; text-decoration-color: #00af00\">128</span>)         │     <span style=\"color: #00af00; text-decoration-color: #00af00\">1,280,000</span> │\n",
       "├─────────────────────────────────┼────────────────────────┼───────────────┤\n",
       "│ simple_rnn (<span style=\"color: #0087ff; text-decoration-color: #0087ff\">SimpleRNN</span>)          │ (<span style=\"color: #00af00; text-decoration-color: #00af00\">32</span>, <span style=\"color: #00af00; text-decoration-color: #00af00\">128</span>)              │        <span style=\"color: #00af00; text-decoration-color: #00af00\">32,896</span> │\n",
       "├─────────────────────────────────┼────────────────────────┼───────────────┤\n",
       "│ dense (<span style=\"color: #0087ff; text-decoration-color: #0087ff\">Dense</span>)                   │ (<span style=\"color: #00af00; text-decoration-color: #00af00\">32</span>, <span style=\"color: #00af00; text-decoration-color: #00af00\">1</span>)                │           <span style=\"color: #00af00; text-decoration-color: #00af00\">129</span> │\n",
       "└─────────────────────────────────┴────────────────────────┴───────────────┘\n",
       "</pre>\n"
      ],
      "text/plain": [
       "┏━━━━━━━━━━━━━━━━━━━━━━━━━━━━━━━━━┳━━━━━━━━━━━━━━━━━━━━━━━━┳━━━━━━━━━━━━━━━┓\n",
       "┃\u001b[1m \u001b[0m\u001b[1mLayer (type)                   \u001b[0m\u001b[1m \u001b[0m┃\u001b[1m \u001b[0m\u001b[1mOutput Shape          \u001b[0m\u001b[1m \u001b[0m┃\u001b[1m \u001b[0m\u001b[1m      Param #\u001b[0m\u001b[1m \u001b[0m┃\n",
       "┡━━━━━━━━━━━━━━━━━━━━━━━━━━━━━━━━━╇━━━━━━━━━━━━━━━━━━━━━━━━╇━━━━━━━━━━━━━━━┩\n",
       "│ embedding (\u001b[38;5;33mEmbedding\u001b[0m)           │ (\u001b[38;5;34m32\u001b[0m, \u001b[38;5;34m500\u001b[0m, \u001b[38;5;34m128\u001b[0m)         │     \u001b[38;5;34m1,280,000\u001b[0m │\n",
       "├─────────────────────────────────┼────────────────────────┼───────────────┤\n",
       "│ simple_rnn (\u001b[38;5;33mSimpleRNN\u001b[0m)          │ (\u001b[38;5;34m32\u001b[0m, \u001b[38;5;34m128\u001b[0m)              │        \u001b[38;5;34m32,896\u001b[0m │\n",
       "├─────────────────────────────────┼────────────────────────┼───────────────┤\n",
       "│ dense (\u001b[38;5;33mDense\u001b[0m)                   │ (\u001b[38;5;34m32\u001b[0m, \u001b[38;5;34m1\u001b[0m)                │           \u001b[38;5;34m129\u001b[0m │\n",
       "└─────────────────────────────────┴────────────────────────┴───────────────┘\n"
      ]
     },
     "metadata": {},
     "output_type": "display_data"
    },
    {
     "data": {
      "text/html": [
       "<pre style=\"white-space:pre;overflow-x:auto;line-height:normal;font-family:Menlo,'DejaVu Sans Mono',consolas,'Courier New',monospace\"><span style=\"font-weight: bold\"> Total params: </span><span style=\"color: #00af00; text-decoration-color: #00af00\">1,313,027</span> (5.01 MB)\n",
       "</pre>\n"
      ],
      "text/plain": [
       "\u001b[1m Total params: \u001b[0m\u001b[38;5;34m1,313,027\u001b[0m (5.01 MB)\n"
      ]
     },
     "metadata": {},
     "output_type": "display_data"
    },
    {
     "data": {
      "text/html": [
       "<pre style=\"white-space:pre;overflow-x:auto;line-height:normal;font-family:Menlo,'DejaVu Sans Mono',consolas,'Courier New',monospace\"><span style=\"font-weight: bold\"> Trainable params: </span><span style=\"color: #00af00; text-decoration-color: #00af00\">1,313,025</span> (5.01 MB)\n",
       "</pre>\n"
      ],
      "text/plain": [
       "\u001b[1m Trainable params: \u001b[0m\u001b[38;5;34m1,313,025\u001b[0m (5.01 MB)\n"
      ]
     },
     "metadata": {},
     "output_type": "display_data"
    },
    {
     "data": {
      "text/html": [
       "<pre style=\"white-space:pre;overflow-x:auto;line-height:normal;font-family:Menlo,'DejaVu Sans Mono',consolas,'Courier New',monospace\"><span style=\"font-weight: bold\"> Non-trainable params: </span><span style=\"color: #00af00; text-decoration-color: #00af00\">0</span> (0.00 B)\n",
       "</pre>\n"
      ],
      "text/plain": [
       "\u001b[1m Non-trainable params: \u001b[0m\u001b[38;5;34m0\u001b[0m (0.00 B)\n"
      ]
     },
     "metadata": {},
     "output_type": "display_data"
    },
    {
     "data": {
      "text/html": [
       "<pre style=\"white-space:pre;overflow-x:auto;line-height:normal;font-family:Menlo,'DejaVu Sans Mono',consolas,'Courier New',monospace\"><span style=\"font-weight: bold\"> Optimizer params: </span><span style=\"color: #00af00; text-decoration-color: #00af00\">2</span> (12.00 B)\n",
       "</pre>\n"
      ],
      "text/plain": [
       "\u001b[1m Optimizer params: \u001b[0m\u001b[38;5;34m2\u001b[0m (12.00 B)\n"
      ]
     },
     "metadata": {},
     "output_type": "display_data"
    }
   ],
   "source": [
    "# Load the pre-trained model with ReLU activation\n",
    "model = load_model('simple_rnn_imdb.h5')\n",
    "model.summary()"
   ]
  },
  {
   "cell_type": "code",
   "execution_count": 4,
   "metadata": {},
   "outputs": [
    {
     "data": {
      "text/plain": [
       "[array([[-7.5141901e-01, -8.3229125e-01, -9.3383044e-01, ...,\n",
       "         -7.4268502e-01,  1.0854340e+00, -7.1384335e-01],\n",
       "        [-6.0259011e-02, -8.6471979e-03, -6.6087358e-02, ...,\n",
       "          1.6990980e-02,  1.4413096e-02,  3.4535240e-02],\n",
       "        [ 2.9988267e-02,  5.3608056e-02, -7.8221776e-02, ...,\n",
       "         -1.0474694e-02,  9.6418232e-02,  1.0280020e-02],\n",
       "        ...,\n",
       "        [-2.7847687e-02, -3.4514837e-02, -5.7604373e-03, ...,\n",
       "         -7.3270023e-02,  6.0946379e-02, -5.2524775e-02],\n",
       "        [-3.7547236e-03,  6.3627541e-02,  1.8841488e-02, ...,\n",
       "         -5.1527586e-02, -2.5369811e-03,  1.5641732e-02],\n",
       "        [ 1.5952404e-03,  6.5521989e-04, -2.5620339e-02, ...,\n",
       "         -1.5496383e-02, -1.9942708e-02, -2.9355310e-02]], dtype=float32),\n",
       " array([[ 0.05819851,  0.13249628,  0.12071355, ..., -0.07334912,\n",
       "          0.01264306,  0.04064576],\n",
       "        [-0.13623144, -0.06494755,  0.08294747, ...,  0.11829764,\n",
       "         -0.096506  , -0.00097997],\n",
       "        [ 0.12495525, -0.02827563, -0.03861356, ..., -0.05309007,\n",
       "          0.01638022, -0.07732563],\n",
       "        ...,\n",
       "        [ 0.12398877, -0.04281678, -0.17846623, ..., -0.19276403,\n",
       "          0.02609796,  0.05471626],\n",
       "        [-0.05464699,  0.1106905 ,  0.04985141, ...,  0.13419367,\n",
       "         -0.14812714, -0.1626521 ],\n",
       "        [ 0.01648965, -0.1279882 ,  0.0163459 , ..., -0.06261422,\n",
       "         -0.16614522,  0.1037326 ]], dtype=float32),\n",
       " array([[ 0.0459774 ,  0.07242917,  0.00021184, ...,  0.04401325,\n",
       "         -0.07106195,  0.03905213],\n",
       "        [-0.0340572 ,  0.02728689,  0.12783043, ..., -0.08457428,\n",
       "         -0.04698069, -0.10350735],\n",
       "        [ 0.05175159, -0.03436202, -0.14962593, ...,  0.03694031,\n",
       "          0.00419929, -0.1945455 ],\n",
       "        ...,\n",
       "        [ 0.00242984, -0.07890823, -0.10647836, ...,  0.14645725,\n",
       "          0.13802183, -0.00667827],\n",
       "        [ 0.01155041, -0.08335663, -0.02026846, ...,  0.07844336,\n",
       "          0.0818652 , -0.01789995],\n",
       "        [ 0.06399752,  0.07396005, -0.12415086, ...,  0.04223155,\n",
       "         -0.1442028 , -0.06723119]], dtype=float32),\n",
       " array([-0.00028407, -0.00509367,  0.00361403, -0.0323642 , -0.01523932,\n",
       "        -0.00783713,  0.00737914, -0.00855645,  0.01140233, -0.01295315,\n",
       "        -0.00977194, -0.00396832, -0.02489205, -0.00937541, -0.01418644,\n",
       "         0.00465265,  0.01347901, -0.0188353 , -0.00415153,  0.02511769,\n",
       "         0.0272096 ,  0.02215803,  0.00937512,  0.00701824, -0.0043276 ,\n",
       "        -0.00277813, -0.02302307, -0.02041738,  0.04079559, -0.01609711,\n",
       "        -0.0126011 , -0.00564018,  0.02218452, -0.0155603 , -0.01177752,\n",
       "         0.02596202, -0.01041975,  0.02684955, -0.00221702, -0.00995493,\n",
       "        -0.02388778, -0.01332068, -0.01954887,  0.01546907,  0.02833275,\n",
       "         0.02324231, -0.00774069, -0.00625692, -0.01210389,  0.01240231,\n",
       "        -0.01907809,  0.01539535, -0.01468342, -0.0108391 , -0.05602805,\n",
       "        -0.0292781 , -0.00643115, -0.01526828, -0.03630592, -0.06367125,\n",
       "        -0.01702643, -0.00912386, -0.02532527,  0.01857978,  0.00294016,\n",
       "         0.01964702,  0.01748426,  0.02955196, -0.03269697,  0.02771854,\n",
       "        -0.01455519, -0.05295861, -0.02364082, -0.02925177, -0.02135515,\n",
       "        -0.00602418, -0.0291068 ,  0.0156637 , -0.02429266, -0.04107635,\n",
       "        -0.01255688,  0.0303018 , -0.07265746,  0.02020968, -0.02510205,\n",
       "         0.02818316,  0.00705288,  0.02846909, -0.01357491,  0.0013132 ,\n",
       "        -0.0143768 ,  0.03241752, -0.06467173, -0.00592401,  0.0175296 ,\n",
       "         0.02533389, -0.003442  , -0.00847828, -0.00078528,  0.00900845,\n",
       "        -0.01133279, -0.00570198, -0.00628647,  0.00331602, -0.0217158 ,\n",
       "        -0.02047496, -0.00060086, -0.01648171,  0.02136254,  0.01905996,\n",
       "        -0.045148  ,  0.02460328, -0.01821499, -0.01534595,  0.01073633,\n",
       "         0.0131296 , -0.01760154,  0.02362018,  0.0244693 , -0.01564466,\n",
       "         0.01477892,  0.01646726, -0.0303272 ,  0.02787768, -0.00761638,\n",
       "         0.0131866 ,  0.00386011,  0.00495905], dtype=float32),\n",
       " array([[-0.16144389],\n",
       "        [-0.12274642],\n",
       "        [-0.26799992],\n",
       "        [-0.00090507],\n",
       "        [ 0.07081357],\n",
       "        [-0.0100957 ],\n",
       "        [-0.28239697],\n",
       "        [-0.24209349],\n",
       "        [-0.05553972],\n",
       "        [-0.12111462],\n",
       "        [-0.07791962],\n",
       "        [ 0.26683012],\n",
       "        [-0.04785741],\n",
       "        [-0.13781537],\n",
       "        [-0.13537458],\n",
       "        [-0.03379986],\n",
       "        [-0.14414634],\n",
       "        [ 0.06510292],\n",
       "        [-0.03695885],\n",
       "        [ 0.01250378],\n",
       "        [ 0.21276653],\n",
       "        [ 0.23823948],\n",
       "        [-0.43881208],\n",
       "        [-0.09710809],\n",
       "        [ 0.25405514],\n",
       "        [-0.15990572],\n",
       "        [-0.08863521],\n",
       "        [-0.16406357],\n",
       "        [-0.00113175],\n",
       "        [-0.17577231],\n",
       "        [-0.2099905 ],\n",
       "        [-0.14408125],\n",
       "        [ 0.26493838],\n",
       "        [-0.231692  ],\n",
       "        [ 0.1896158 ],\n",
       "        [ 0.16571294],\n",
       "        [ 0.14576593],\n",
       "        [-0.13396488],\n",
       "        [ 0.16045877],\n",
       "        [-0.00347863],\n",
       "        [-0.10488474],\n",
       "        [ 0.09256864],\n",
       "        [-0.11401018],\n",
       "        [-0.04355514],\n",
       "        [ 0.14502023],\n",
       "        [ 0.23746425],\n",
       "        [ 0.12804264],\n",
       "        [-0.21082824],\n",
       "        [-0.13539565],\n",
       "        [-0.17779823],\n",
       "        [-0.17106457],\n",
       "        [ 0.12078919],\n",
       "        [-0.11096971],\n",
       "        [ 0.02643448],\n",
       "        [-0.21420036],\n",
       "        [ 0.03942327],\n",
       "        [ 0.2760933 ],\n",
       "        [-0.22704534],\n",
       "        [-0.0523016 ],\n",
       "        [ 0.3471632 ],\n",
       "        [ 0.11265223],\n",
       "        [-0.11504652],\n",
       "        [ 0.13016735],\n",
       "        [ 0.02171749],\n",
       "        [-0.1293011 ],\n",
       "        [ 0.13352168],\n",
       "        [ 0.16726595],\n",
       "        [ 0.02156044],\n",
       "        [ 0.01892618],\n",
       "        [ 0.06232203],\n",
       "        [-0.12120233],\n",
       "        [ 0.25383705],\n",
       "        [-0.1061618 ],\n",
       "        [-0.1886398 ],\n",
       "        [ 0.16823366],\n",
       "        [-0.20829028],\n",
       "        [-0.06294069],\n",
       "        [-0.03801149],\n",
       "        [-0.12348086],\n",
       "        [ 0.01017735],\n",
       "        [-0.1360987 ],\n",
       "        [ 0.19851719],\n",
       "        [ 0.14658639],\n",
       "        [-0.21231943],\n",
       "        [ 0.12428144],\n",
       "        [-0.00362162],\n",
       "        [ 0.14546084],\n",
       "        [ 0.14846276],\n",
       "        [-0.15438484],\n",
       "        [ 0.243928  ],\n",
       "        [-0.19930583],\n",
       "        [ 0.19312997],\n",
       "        [-0.12641886],\n",
       "        [ 0.08784525],\n",
       "        [-0.18207943],\n",
       "        [ 0.0265864 ],\n",
       "        [-0.10060788],\n",
       "        [-0.2609252 ],\n",
       "        [-0.11841559],\n",
       "        [-0.0772819 ],\n",
       "        [-0.2395898 ],\n",
       "        [-0.46401548],\n",
       "        [ 0.13785243],\n",
       "        [ 0.37898338],\n",
       "        [ 0.09040547],\n",
       "        [-0.1599038 ],\n",
       "        [ 0.22848137],\n",
       "        [ 0.03792474],\n",
       "        [-0.26570106],\n",
       "        [ 0.1004476 ],\n",
       "        [ 0.13557479],\n",
       "        [-0.11316969],\n",
       "        [-0.18950377],\n",
       "        [-0.42893165],\n",
       "        [ 0.03089645],\n",
       "        [ 0.16045599],\n",
       "        [-0.16681844],\n",
       "        [ 0.23135217],\n",
       "        [ 0.19263114],\n",
       "        [ 0.10115936],\n",
       "        [ 0.33215556],\n",
       "        [-0.19624902],\n",
       "        [-0.01110135],\n",
       "        [ 0.06818908],\n",
       "        [-0.01704683],\n",
       "        [-0.17613429],\n",
       "        [ 0.03184486],\n",
       "        [-0.00540908]], dtype=float32),\n",
       " array([-0.61725295], dtype=float32)]"
      ]
     },
     "execution_count": 4,
     "metadata": {},
     "output_type": "execute_result"
    }
   ],
   "source": [
    "model.get_weights()"
   ]
  },
  {
   "cell_type": "code",
   "execution_count": 5,
   "metadata": {},
   "outputs": [],
   "source": [
    "# Step 2: Helper Functions\n",
    "# Function to decode reviews\n",
    "def decode_review(encoded_review):\n",
    "    return ' '.join([reverse_word_index.get(i - 3, '?') for i in encoded_review])\n",
    "\n",
    "# Function to preprocess user input\n",
    "def preprocess_text(text):\n",
    "    words = text.lower().split()\n",
    "    encoded_review = [word_index.get(word, 2) + 3 for word in words]\n",
    "    padded_review = sequence.pad_sequences([encoded_review], maxlen=500)\n",
    "    return padded_review"
   ]
  },
  {
   "cell_type": "code",
   "execution_count": 8,
   "metadata": {},
   "outputs": [],
   "source": [
    "### Prediction  function\n",
    "\n",
    "def predict_sentiment(review):\n",
    "    preprocessed_input=preprocess_text(review)\n",
    "\n",
    "    prediction=model.predict(preprocessed_input)\n",
    "\n",
    "    sentiment = 'Positive' if prediction[0][0] > 0.5 else 'Negative'\n",
    "    \n",
    "    return sentiment, prediction[0][0]\n",
    "\n"
   ]
  },
  {
   "cell_type": "code",
   "execution_count": 9,
   "metadata": {},
   "outputs": [
    {
     "name": "stdout",
     "output_type": "stream",
     "text": [
      "\u001b[1m1/1\u001b[0m \u001b[32m━━━━━━━━━━━━━━━━━━━━\u001b[0m\u001b[37m\u001b[0m \u001b[1m0s\u001b[0m 58ms/step\n",
      "Review: This movie was fantastic! The acting was great and the plot was thrilling.\n",
      "Sentiment: Positive\n",
      "Prediction Score: 0.9992581605911255\n"
     ]
    }
   ],
   "source": [
    "# Step 4: User Input and Prediction\n",
    "# Example review for prediction\n",
    "example_review = \"This movie was fantastic! The acting was great and the plot was thrilling.\"\n",
    "\n",
    "sentiment,score=predict_sentiment(example_review)\n",
    "\n",
    "print(f'Review: {example_review}')\n",
    "print(f'Sentiment: {sentiment}')\n",
    "print(f'Prediction Score: {score}')"
   ]
  },
  {
   "cell_type": "code",
   "execution_count": null,
   "metadata": {},
   "outputs": [],
   "source": []
  },
  {
   "cell_type": "code",
   "execution_count": null,
   "metadata": {},
   "outputs": [],
   "source": []
  },
  {
   "cell_type": "code",
   "execution_count": null,
   "metadata": {},
   "outputs": [],
   "source": []
  },
  {
   "cell_type": "code",
   "execution_count": null,
   "metadata": {},
   "outputs": [],
   "source": []
  }
 ],
 "metadata": {
  "kernelspec": {
   "display_name": "Python 3",
   "language": "python",
   "name": "python3"
  },
  "language_info": {
   "codemirror_mode": {
    "name": "ipython",
    "version": 3
   },
   "file_extension": ".py",
   "mimetype": "text/x-python",
   "name": "python",
   "nbconvert_exporter": "python",
   "pygments_lexer": "ipython3",
   "version": "3.12.4"
  }
 },
 "nbformat": 4,
 "nbformat_minor": 2
}
